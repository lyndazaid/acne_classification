{
 "cells": [
  {
   "cell_type": "code",
   "execution_count": 1,
   "metadata": {},
   "outputs": [
    {
     "name": "stderr",
     "output_type": "stream",
     "text": [
      "Using TensorFlow backend.\n"
     ]
    }
   ],
   "source": [
    "import numpy as np\n",
    "#NumPy, which stands for Numerical Python, is a library consisting of multidimensional array objects \n",
    "#and a collection of routines for processing those arrays. Using NumPy, mathematical and logical operations on arrays \n",
    "#can be performed. NumPy is a Python package.\n",
    "\n",
    "import os\n",
    "\n",
    "import time\n",
    "# “time” which allows us to handle various operations regarding time, its conversions and representations\n",
    "\n",
    "from vgg16 import VGG16\n",
    "#import function VGG16 from the module (.py) vgg16\n",
    "\n",
    "from keras.preprocessing import image\n",
    "from keras.applications.imagenet_utils import preprocess_input\n",
    "from imagenet_utils import decode_predictions\n",
    "from keras.layers import Dense, Activation, Flatten\n",
    "from keras.layers import merge, Input\n",
    "from keras.models import Model\n",
    "from keras.utils import np_utils\n",
    "#import the necessary functions from the keras library\n",
    "\n",
    "from sklearn.utils import shuffle\n",
    "#shuffle. Shuffle arrays or sparse matrices in a consistent way. \n",
    "#This is a convenience alias to resample(*arrays, replace=False) to do random permutations of the collections.\n",
    "from sklearn.model_selection import train_test_split\n",
    "#train_test_split is a function in Sklearn model selection for splitting data arrays into two subsets: \n",
    "#for training data and for testing data."
   ]
  },
  {
   "cell_type": "code",
   "execution_count": 2,
   "metadata": {},
   "outputs": [],
   "source": [
    "num_classes = 10\n",
    "IMAGES_DIRECTORY = \"imagesdata1/data\"\n",
    "\n",
    "# Make the images directory if it does not exist\n",
    "if not os.path.exists(IMAGES_DIRECTORY):\n",
    "    os.mkdir(IMAGES_DIRECTORY)\n",
    "    \n",
    "    # Take the ten folders with the most images and move to new directory\n",
    "    # Rename the folders with the number of images and name of individual\n",
    "    for person in people_number[:num_classes]:\n",
    "        name = person[0]\n",
    "        # Original download directory path\n",
    "        folder_path = IMAGES_DOWNLOAD_DIRECTORY + '/lfw-deepfunneled/' + name\n",
    "        formatted_num_images = str(person[1]).zfill(3)\n",
    "        new_folder_name = \"{} {}\".format(formatted_num_images, name)\n",
    "        image_new_name = IMAGES_DIRECTORY + \"/\" + new_folder_name\n",
    "        \n",
    "        # Make a new folder for each individual in the images directory\n",
    "        os.mkdir(IMAGES_DIRECTORY + '/' + name)\n",
    "        # Copy the folder from the download location to the new folder\n",
    "        copy_tree(folder_path, IMAGES_DIRECTORY + '/' + name)\n",
    "        # Rename the folder with images and individual\n",
    "        os.rename(IMAGES_DIRECTORY + '/' + name, image_new_name)"
   ]
  },
  {
   "cell_type": "code",
   "execution_count": 3,
   "metadata": {},
   "outputs": [
    {
     "data": {
      "text/plain": [
       "['2000 Acne',\n",
       " '2000 Actinic keratosis',\n",
       " '2000 Angioedema',\n",
       " '2000 Blepharitis',\n",
       " '2000 Eczema',\n",
       " '2000 Melasma',\n",
       " '2000 Normal Skin',\n",
       " '2000 NotFace',\n",
       " '2000 Rosacea',\n",
       " '2000 Vitiligo']"
      ]
     },
     "execution_count": 3,
     "metadata": {},
     "output_type": "execute_result"
    }
   ],
   "source": [
    "os.listdir(\"imagesdata1/data\") "
   ]
  },
  {
   "cell_type": "code",
   "execution_count": 4,
   "metadata": {},
   "outputs": [],
   "source": [
    "#Map each class to an integer label\n",
    "class_mapping = {}\n",
    "class_images1 = {}\n",
    "\n",
    "# Create dictionary to map integer labels to individuals\n",
    "# Class_images will record number of images for each class\n",
    "for index, directory in enumerate(os.listdir(\"imagesdata1/data/\")):\n",
    "    class_mapping[index] = directory.split(\" \")[1]\n",
    "    class_images1[index] = int(directory.split(' ')[0])"
   ]
  },
  {
   "cell_type": "code",
   "execution_count": 5,
   "metadata": {},
   "outputs": [
    {
     "data": {
      "text/plain": [
       "{0: 'Acne',\n",
       " 1: 'Actinic',\n",
       " 2: 'Angioedema',\n",
       " 3: 'Blepharitis',\n",
       " 4: 'Eczema',\n",
       " 5: 'Melasma',\n",
       " 6: 'Normal',\n",
       " 7: 'NotFace',\n",
       " 8: 'Rosacea',\n",
       " 9: 'Vitiligo'}"
      ]
     },
     "execution_count": 5,
     "metadata": {},
     "output_type": "execute_result"
    }
   ],
   "source": [
    "class_mapping"
   ]
  },
  {
   "cell_type": "code",
   "execution_count": 6,
   "metadata": {},
   "outputs": [
    {
     "data": {
      "text/plain": [
       "{0: 2000,\n",
       " 1: 2000,\n",
       " 2: 2000,\n",
       " 3: 2000,\n",
       " 4: 2000,\n",
       " 5: 2000,\n",
       " 6: 2000,\n",
       " 7: 2000,\n",
       " 8: 2000,\n",
       " 9: 2000}"
      ]
     },
     "execution_count": 6,
     "metadata": {},
     "output_type": "execute_result"
    }
   ],
   "source": [
    "class_images1"
   ]
  },
  {
   "cell_type": "code",
   "execution_count": 7,
   "metadata": {},
   "outputs": [
    {
     "name": "stdout",
     "output_type": "stream",
     "text": [
      "Skin diseases Training \t Composition of Dataset\n",
      "\n",
      "Acne                 10.00%\n",
      "Actinic              10.00%\n",
      "Angioedema           10.00%\n",
      "Blepharitis          10.00%\n",
      "Eczema               10.00%\n",
      "Melasma              10.00%\n",
      "Normal               10.00%\n",
      "NotFace              10.00%\n",
      "Rosacea              10.00%\n",
      "Vitiligo             10.00%\n"
     ]
    }
   ],
   "source": [
    "#We can look at the distribution of each class.\n",
    "total_num_images = np.sum(list(class_images1.values()))\n",
    "\n",
    "print(\"Skin diseases Training \\t Composition of Dataset\\n\")\n",
    "for label, num_images in class_images1.items():\n",
    "    print(\"{:20} {:.2f}%\".format(\n",
    "        class_mapping[label], (num_images / total_num_images) * 100))"
   ]
  },
  {
   "cell_type": "code",
   "execution_count": 8,
   "metadata": {},
   "outputs": [
    {
     "name": "stderr",
     "output_type": "stream",
     "text": [
      "C:\\Users\\rola\\Anaconda3\\lib\\site-packages\\ipykernel_launcher.py:18: DeprecationWarning: `imresize` is deprecated!\n",
      "`imresize` is deprecated in SciPy 1.0.0, and will be removed in 1.2.0.\n",
      "Use ``skimage.transform.resize`` instead.\n"
     ]
    }
   ],
   "source": [
    "#Read the images into RGB (red-green-blue) pixel value arrays.\n",
    "import matplotlib.pyplot as plt\n",
    "#Matplotlib is a Python library that helps to plot graphs. It is used in data visualization and graphical plotting.\n",
    "\n",
    "from scipy.misc import imresize\n",
    "\n",
    "image_arrays = []\n",
    "image_labels = []\n",
    "root_image_directory = \"imagesdata1/data/\"\n",
    "target_height=224;\n",
    "target_width=224;\n",
    "\n",
    "for label, person in class_mapping.items():\n",
    "    for directory in os.listdir(root_image_directory):\n",
    "        if directory.split(\" \")[1] == person:\n",
    "            image_directory = root_image_directory + directory\n",
    "            break\n",
    "            \n",
    "    for image in os.listdir(image_directory):\n",
    "        image = plt.imread(os.path.join(image_directory, image))\n",
    "        image = imresize(image, (target_width, target_height))\n",
    "        image_arrays.append(image)\n",
    "        image_labels.append(label)"
   ]
  },
  {
   "cell_type": "code",
   "execution_count": 9,
   "metadata": {},
   "outputs": [
    {
     "name": "stdout",
     "output_type": "stream",
     "text": [
      "(20000, 224, 224, 3) (20000,)\n"
     ]
    }
   ],
   "source": [
    "image_arrays = np.array(image_arrays)\n",
    "image_labels = np.array(image_labels)\n",
    "print(image_arrays.shape, image_labels.shape)"
   ]
  },
  {
   "cell_type": "code",
   "execution_count": 10,
   "metadata": {},
   "outputs": [
    {
     "name": "stdout",
     "output_type": "stream",
     "text": [
      "Example After conversion to one-hot: [1. 0. 0. 0. 0. 0. 0. 0. 0. 0.]\n"
     ]
    }
   ],
   "source": [
    "# convert class labels to on-hot encoding\n",
    "Y = np_utils.to_categorical(image_labels, num_classes)\n",
    "print('Example After conversion to one-hot:', Y[0])"
   ]
  },
  {
   "cell_type": "code",
   "execution_count": 11,
   "metadata": {},
   "outputs": [],
   "source": [
    "#Shuffle the dataset\n",
    "x,y = shuffle(image_arrays,Y, random_state=2)"
   ]
  },
  {
   "cell_type": "code",
   "execution_count": 12,
   "metadata": {},
   "outputs": [
    {
     "name": "stdout",
     "output_type": "stream",
     "text": [
      "(16000, 224, 224, 3) (4000, 224, 224, 3)\n",
      "(16000, 10) (4000, 10)\n"
     ]
    }
   ],
   "source": [
    "# Split the dataset\n",
    "X_train, X_test, y_train, y_test = train_test_split(x, y, test_size=0.2, random_state=2)\n",
    "X_train.shape, X_test.shape, y_train.shape, y_test.shape\n",
    "print(X_train.shape, X_test.shape)\n",
    "print(y_train.shape, y_test.shape)"
   ]
  },
  {
   "cell_type": "code",
   "execution_count": 13,
   "metadata": {},
   "outputs": [
    {
     "name": "stdout",
     "output_type": "stream",
     "text": [
      "WARNING:tensorflow:From C:\\Users\\rola\\Anaconda3\\lib\\site-packages\\keras\\backend\\tensorflow_backend.py:4070: The name tf.nn.max_pool is deprecated. Please use tf.nn.max_pool2d instead.\n",
      "\n",
      "Model: \"vgg16\"\n",
      "_________________________________________________________________\n",
      "Layer (type)                 Output Shape              Param #   \n",
      "=================================================================\n",
      "input_1 (InputLayer)         (None, 224, 224, 3)       0         \n",
      "_________________________________________________________________\n",
      "block1_conv1 (Conv2D)        (None, 224, 224, 64)      1792      \n",
      "_________________________________________________________________\n",
      "block1_conv2 (Conv2D)        (None, 224, 224, 64)      36928     \n",
      "_________________________________________________________________\n",
      "block1_pool (MaxPooling2D)   (None, 112, 112, 64)      0         \n",
      "_________________________________________________________________\n",
      "block2_conv1 (Conv2D)        (None, 112, 112, 128)     73856     \n",
      "_________________________________________________________________\n",
      "block2_conv2 (Conv2D)        (None, 112, 112, 128)     147584    \n",
      "_________________________________________________________________\n",
      "block2_pool (MaxPooling2D)   (None, 56, 56, 128)       0         \n",
      "_________________________________________________________________\n",
      "block3_conv1 (Conv2D)        (None, 56, 56, 256)       295168    \n",
      "_________________________________________________________________\n",
      "block3_conv2 (Conv2D)        (None, 56, 56, 256)       590080    \n",
      "_________________________________________________________________\n",
      "block3_conv3 (Conv2D)        (None, 56, 56, 256)       590080    \n",
      "_________________________________________________________________\n",
      "block3_pool (MaxPooling2D)   (None, 28, 28, 256)       0         \n",
      "_________________________________________________________________\n",
      "block4_conv1 (Conv2D)        (None, 28, 28, 512)       1180160   \n",
      "_________________________________________________________________\n",
      "block4_conv2 (Conv2D)        (None, 28, 28, 512)       2359808   \n",
      "_________________________________________________________________\n",
      "block4_conv3 (Conv2D)        (None, 28, 28, 512)       2359808   \n",
      "_________________________________________________________________\n",
      "block4_pool (MaxPooling2D)   (None, 14, 14, 512)       0         \n",
      "_________________________________________________________________\n",
      "block5_conv1 (Conv2D)        (None, 14, 14, 512)       2359808   \n",
      "_________________________________________________________________\n",
      "block5_conv2 (Conv2D)        (None, 14, 14, 512)       2359808   \n",
      "_________________________________________________________________\n",
      "block5_conv3 (Conv2D)        (None, 14, 14, 512)       2359808   \n",
      "_________________________________________________________________\n",
      "block5_pool (MaxPooling2D)   (None, 7, 7, 512)         0         \n",
      "=================================================================\n",
      "Total params: 14,714,688\n",
      "Trainable params: 14,714,688\n",
      "Non-trainable params: 0\n",
      "_________________________________________________________________\n"
     ]
    }
   ],
   "source": [
    "#########################################################################################\n",
    "# Custom_vgg_model_1\n",
    "#Training the classifier alone\n",
    "image_input = Input(shape=(224, 224, 3))\n",
    "model1 = VGG16(weights='imagenet',include_top=False,input_tensor=image_input)\n",
    "model1.summary()"
   ]
  },
  {
   "cell_type": "code",
   "execution_count": 14,
   "metadata": {},
   "outputs": [
    {
     "name": "stdout",
     "output_type": "stream",
     "text": [
      "Model: \"model_1\"\n",
      "_________________________________________________________________\n",
      "Layer (type)                 Output Shape              Param #   \n",
      "=================================================================\n",
      "input_1 (InputLayer)         (None, 224, 224, 3)       0         \n",
      "_________________________________________________________________\n",
      "block1_conv1 (Conv2D)        (None, 224, 224, 64)      1792      \n",
      "_________________________________________________________________\n",
      "block1_conv2 (Conv2D)        (None, 224, 224, 64)      36928     \n",
      "_________________________________________________________________\n",
      "block1_pool (MaxPooling2D)   (None, 112, 112, 64)      0         \n",
      "_________________________________________________________________\n",
      "block2_conv1 (Conv2D)        (None, 112, 112, 128)     73856     \n",
      "_________________________________________________________________\n",
      "block2_conv2 (Conv2D)        (None, 112, 112, 128)     147584    \n",
      "_________________________________________________________________\n",
      "block2_pool (MaxPooling2D)   (None, 56, 56, 128)       0         \n",
      "_________________________________________________________________\n",
      "block3_conv1 (Conv2D)        (None, 56, 56, 256)       295168    \n",
      "_________________________________________________________________\n",
      "block3_conv2 (Conv2D)        (None, 56, 56, 256)       590080    \n",
      "_________________________________________________________________\n",
      "block3_conv3 (Conv2D)        (None, 56, 56, 256)       590080    \n",
      "_________________________________________________________________\n",
      "block3_pool (MaxPooling2D)   (None, 28, 28, 256)       0         \n",
      "_________________________________________________________________\n",
      "block4_conv1 (Conv2D)        (None, 28, 28, 512)       1180160   \n",
      "_________________________________________________________________\n",
      "block4_conv2 (Conv2D)        (None, 28, 28, 512)       2359808   \n",
      "_________________________________________________________________\n",
      "block4_conv3 (Conv2D)        (None, 28, 28, 512)       2359808   \n",
      "_________________________________________________________________\n",
      "block4_pool (MaxPooling2D)   (None, 14, 14, 512)       0         \n",
      "_________________________________________________________________\n",
      "block5_conv1 (Conv2D)        (None, 14, 14, 512)       2359808   \n",
      "_________________________________________________________________\n",
      "block5_conv2 (Conv2D)        (None, 14, 14, 512)       2359808   \n",
      "_________________________________________________________________\n",
      "block5_conv3 (Conv2D)        (None, 14, 14, 512)       2359808   \n",
      "_________________________________________________________________\n",
      "block5_pool (MaxPooling2D)   (None, 7, 7, 512)         0         \n",
      "_________________________________________________________________\n",
      "global_average_pooling2d_1 ( (None, 512)               0         \n",
      "_________________________________________________________________\n",
      "dropout_1 (Dropout)          (None, 512)               0         \n",
      "_________________________________________________________________\n",
      "dense_1 (Dense)              (None, 10)                5130      \n",
      "=================================================================\n",
      "Total params: 14,719,818\n",
      "Trainable params: 14,719,818\n",
      "Non-trainable params: 0\n",
      "_________________________________________________________________\n",
      "None\n"
     ]
    }
   ],
   "source": [
    "from keras.layers import Dropout\n",
    "from keras.layers.pooling import GlobalAveragePooling2D\n",
    "#import the necessary functions from the keras library\n",
    "\n",
    "x = model1.output\n",
    "x = GlobalAveragePooling2D()(x)\n",
    "x = Dropout(0.5)(x)\n",
    "predictions = Dense(num_classes, activation='softmax')(x) \n",
    "model = Model(inputs=model1.input, outputs=predictions)\n",
    "print(model.summary())"
   ]
  },
  {
   "cell_type": "code",
   "execution_count": 15,
   "metadata": {},
   "outputs": [
    {
     "name": "stdout",
     "output_type": "stream",
     "text": [
      "0 input_1 False\n",
      "1 block1_conv1 True\n",
      "2 block1_conv2 True\n",
      "3 block1_pool True\n",
      "4 block2_conv1 True\n",
      "5 block2_conv2 True\n",
      "6 block2_pool True\n",
      "7 block3_conv1 True\n",
      "8 block3_conv2 True\n",
      "9 block3_conv3 True\n",
      "10 block3_pool True\n",
      "11 block4_conv1 True\n",
      "12 block4_conv2 True\n",
      "13 block4_conv3 True\n",
      "14 block4_pool True\n",
      "15 block5_conv1 True\n",
      "16 block5_conv2 True\n",
      "17 block5_conv3 True\n",
      "18 block5_pool True\n"
     ]
    }
   ],
   "source": [
    "for i, layer in enumerate(model1.layers):\n",
    "   print(i, layer.name, layer.trainable)"
   ]
  },
  {
   "cell_type": "code",
   "execution_count": 16,
   "metadata": {},
   "outputs": [
    {
     "name": "stdout",
     "output_type": "stream",
     "text": [
      "conv_base is now NOT trainable\n"
     ]
    }
   ],
   "source": [
    "# Make the conv_base NOT trainable:\n",
    "\n",
    "for layer in model1.layers[:]:\n",
    "    layer.trainable = False\n",
    "\n",
    "print('conv_base is now NOT trainable')"
   ]
  },
  {
   "cell_type": "code",
   "execution_count": 17,
   "metadata": {},
   "outputs": [
    {
     "name": "stdout",
     "output_type": "stream",
     "text": [
      "Last block of the conv_base is now trainable\n"
     ]
    }
   ],
   "source": [
    "# Make last block of the conv_base trainable:\n",
    "\n",
    "for layer in model1.layers[:15]:\n",
    "    layer.trainable = False\n",
    "for layer in model1.layers[15:]:\n",
    "    layer.trainable = True\n",
    "\n",
    "print('Last block of the conv_base is now trainable')"
   ]
  },
  {
   "cell_type": "code",
   "execution_count": 18,
   "metadata": {},
   "outputs": [
    {
     "name": "stdout",
     "output_type": "stream",
     "text": [
      "0 input_1 False\n",
      "1 block1_conv1 False\n",
      "2 block1_conv2 False\n",
      "3 block1_pool False\n",
      "4 block2_conv1 False\n",
      "5 block2_conv2 False\n",
      "6 block2_pool False\n",
      "7 block3_conv1 False\n",
      "8 block3_conv2 False\n",
      "9 block3_conv3 False\n",
      "10 block3_pool False\n",
      "11 block4_conv1 False\n",
      "12 block4_conv2 False\n",
      "13 block4_conv3 False\n",
      "14 block4_pool False\n",
      "15 block5_conv1 True\n",
      "16 block5_conv2 True\n",
      "17 block5_conv3 True\n",
      "18 block5_pool True\n"
     ]
    }
   ],
   "source": [
    "for i, layer in enumerate(model1.layers):\n",
    "    print(i, layer.name, layer.trainable)"
   ]
  },
  {
   "cell_type": "code",
   "execution_count": 19,
   "metadata": {},
   "outputs": [
    {
     "name": "stdout",
     "output_type": "stream",
     "text": [
      "Model: \"model_1\"\n",
      "_________________________________________________________________\n",
      "Layer (type)                 Output Shape              Param #   \n",
      "=================================================================\n",
      "input_1 (InputLayer)         (None, 224, 224, 3)       0         \n",
      "_________________________________________________________________\n",
      "block1_conv1 (Conv2D)        (None, 224, 224, 64)      1792      \n",
      "_________________________________________________________________\n",
      "block1_conv2 (Conv2D)        (None, 224, 224, 64)      36928     \n",
      "_________________________________________________________________\n",
      "block1_pool (MaxPooling2D)   (None, 112, 112, 64)      0         \n",
      "_________________________________________________________________\n",
      "block2_conv1 (Conv2D)        (None, 112, 112, 128)     73856     \n",
      "_________________________________________________________________\n",
      "block2_conv2 (Conv2D)        (None, 112, 112, 128)     147584    \n",
      "_________________________________________________________________\n",
      "block2_pool (MaxPooling2D)   (None, 56, 56, 128)       0         \n",
      "_________________________________________________________________\n",
      "block3_conv1 (Conv2D)        (None, 56, 56, 256)       295168    \n",
      "_________________________________________________________________\n",
      "block3_conv2 (Conv2D)        (None, 56, 56, 256)       590080    \n",
      "_________________________________________________________________\n",
      "block3_conv3 (Conv2D)        (None, 56, 56, 256)       590080    \n",
      "_________________________________________________________________\n",
      "block3_pool (MaxPooling2D)   (None, 28, 28, 256)       0         \n",
      "_________________________________________________________________\n",
      "block4_conv1 (Conv2D)        (None, 28, 28, 512)       1180160   \n",
      "_________________________________________________________________\n",
      "block4_conv2 (Conv2D)        (None, 28, 28, 512)       2359808   \n",
      "_________________________________________________________________\n",
      "block4_conv3 (Conv2D)        (None, 28, 28, 512)       2359808   \n",
      "_________________________________________________________________\n",
      "block4_pool (MaxPooling2D)   (None, 14, 14, 512)       0         \n",
      "_________________________________________________________________\n",
      "block5_conv1 (Conv2D)        (None, 14, 14, 512)       2359808   \n",
      "_________________________________________________________________\n",
      "block5_conv2 (Conv2D)        (None, 14, 14, 512)       2359808   \n",
      "_________________________________________________________________\n",
      "block5_conv3 (Conv2D)        (None, 14, 14, 512)       2359808   \n",
      "_________________________________________________________________\n",
      "block5_pool (MaxPooling2D)   (None, 7, 7, 512)         0         \n",
      "_________________________________________________________________\n",
      "global_average_pooling2d_1 ( (None, 512)               0         \n",
      "_________________________________________________________________\n",
      "dropout_1 (Dropout)          (None, 512)               0         \n",
      "_________________________________________________________________\n",
      "dense_1 (Dense)              (None, 10)                5130      \n",
      "=================================================================\n",
      "Total params: 14,719,818\n",
      "Trainable params: 7,084,554\n",
      "Non-trainable params: 7,635,264\n",
      "_________________________________________________________________\n"
     ]
    }
   ],
   "source": [
    "from keras.optimizers import SGD\n",
    "from keras.optimizers import Adam\n",
    "\n",
    "opt = Adam(lr=1e-4)\n",
    "model.compile(loss='categorical_crossentropy', optimizer=opt,metrics=[\"accuracy\"])\n",
    "#opt = SGD(lr=1e-4, momentum=0.9)\n",
    "#model.compile(loss='categorical_crossentropy',optimizer=opt,metrics=['accuracy'])\n",
    "model.summary()"
   ]
  },
  {
   "cell_type": "code",
   "execution_count": 20,
   "metadata": {},
   "outputs": [
    {
     "name": "stdout",
     "output_type": "stream",
     "text": [
      "WARNING:tensorflow:From C:\\Users\\rola\\Anaconda3\\lib\\site-packages\\keras\\backend\\tensorflow_backend.py:422: The name tf.global_variables is deprecated. Please use tf.compat.v1.global_variables instead.\n",
      "\n",
      "Train on 16000 samples, validate on 4000 samples\n",
      "Epoch 1/10\n",
      "16000/16000 [==============================] - 157s 10ms/step - loss: 1.1826 - accuracy: 0.6026 - val_loss: 0.3210 - val_accuracy: 0.8938\n",
      "Epoch 2/10\n",
      "16000/16000 [==============================] - 154s 10ms/step - loss: 0.3043 - accuracy: 0.9011 - val_loss: 0.1543 - val_accuracy: 0.9507\n",
      "Epoch 3/10\n",
      "16000/16000 [==============================] - 153s 10ms/step - loss: 0.1317 - accuracy: 0.9603 - val_loss: 0.1214 - val_accuracy: 0.9628\n",
      "Epoch 4/10\n",
      "16000/16000 [==============================] - 188s 12ms/step - loss: 0.0786 - accuracy: 0.9761 - val_loss: 0.0654 - val_accuracy: 0.9787\n",
      "Epoch 5/10\n",
      "16000/16000 [==============================] - 155s 10ms/step - loss: 0.0683 - accuracy: 0.9811 - val_loss: 0.0667 - val_accuracy: 0.9812\n",
      "Epoch 6/10\n",
      "16000/16000 [==============================] - 154s 10ms/step - loss: 0.0735 - accuracy: 0.9824 - val_loss: 0.0821 - val_accuracy: 0.9785\n",
      "Epoch 7/10\n",
      "16000/16000 [==============================] - 154s 10ms/step - loss: 0.0500 - accuracy: 0.9862 - val_loss: 0.1227 - val_accuracy: 0.9753\n",
      "Epoch 8/10\n",
      "16000/16000 [==============================] - 155s 10ms/step - loss: 0.0567 - accuracy: 0.9861 - val_loss: 0.0526 - val_accuracy: 0.9880\n",
      "Epoch 9/10\n",
      "16000/16000 [==============================] - 155s 10ms/step - loss: 0.0705 - accuracy: 0.9842 - val_loss: 0.0540 - val_accuracy: 0.9870\n",
      "Epoch 10/10\n",
      "16000/16000 [==============================] - 154s 10ms/step - loss: 0.0259 - accuracy: 0.9927 - val_loss: 0.1074 - val_accuracy: 0.9815\n",
      "4000/4000 [==============================] - 26s 7ms/step\n",
      "[INFO] loss=0.1074, accuracy: 98.1500%\n"
     ]
    }
   ],
   "source": [
    "t=time.time()\n",
    "hist = model.fit(X_train, y_train, batch_size=16, epochs=10, verbose=1, validation_data=(X_test, y_test))\n",
    "\n",
    "(loss, accuracy) = model.evaluate(X_test, y_test, batch_size=16, verbose=1)\n",
    "\n",
    "print(\"[INFO] loss={:.4f}, accuracy: {:.4f}%\".format(loss,accuracy * 100))"
   ]
  },
  {
   "cell_type": "code",
   "execution_count": 21,
   "metadata": {},
   "outputs": [
    {
     "data": {
      "image/png": "[encoded data removed]",
      "text/plain": [
       "<Figure size 432x288 with 1 Axes>"
      ]
     },
     "metadata": {
      "needs_background": "light"
     },
     "output_type": "display_data"
    }
   ],
   "source": [
    "import matplotlib.pyplot as plt\n",
    "plt.figure()\n",
    "plt.plot(np.arange(0, 10), hist.history[\"loss\"], label= \"Train_loss\")\n",
    "plt.plot(np.arange(0, 10), hist.history[\"val_loss\"], label= \"Val_loss\")\n",
    "plt.plot(np.arange(0, 10), hist.history[\"accuracy\"], label= \"Train_acc\")\n",
    "plt.plot(np.arange(0, 10), hist.history[\"val_accuracy\"], label= \"Val_acc\")\n",
    "plt.title(\"Training Loss and Accuracy\")\n",
    "plt.xlabel(\"Epoch#\")\n",
    "plt.ylabel(\"Loss/Accuracy\")\n",
    "plt.legend()\n",
    "plt.show()"
   ]
  },
  {
   "cell_type": "code",
   "execution_count": 22,
   "metadata": {},
   "outputs": [],
   "source": [
    "import matplotlib.pyplot as plt\n",
    "# visualizing losses and accuracy\n",
    "train_loss=hist.history['loss']\n",
    "val_loss=hist.history['val_loss']\n",
    "train_acc=hist.history['accuracy']\n",
    "val_acc=hist.history['val_accuracy']\n",
    "xc=range(50)\n",
    "epochs = range(len(train_acc))"
   ]
  },
  {
   "cell_type": "code",
   "execution_count": 23,
   "metadata": {},
   "outputs": [
    {
     "data": {
      "image/png": "[encoded data removed]",
      "text/plain": [
       "<Figure size 432x288 with 1 Axes>"
      ]
     },
     "metadata": {
      "needs_background": "light"
     },
     "output_type": "display_data"
    },
    {
     "data": {
      "image/png": "[encoded data removed]",
      "text/plain": [
       "<Figure size 432x288 with 1 Axes>"
      ]
     },
     "metadata": {
      "needs_background": "light"
     },
     "output_type": "display_data"
    }
   ],
   "source": [
    "plt.plot(epochs, train_acc, 'bo', label='Training accuracy')\n",
    "plt.plot(epochs, val_acc, 'b', label='Validation accuracy')\n",
    "plt.title('Training and validation accuracy')\n",
    "plt.xlabel('Number of epochs')\n",
    "plt.ylabel('Accuracy')\n",
    "plt.legend()\n",
    "\n",
    "plt.figure()\n",
    "plt.plot(epochs,train_loss , 'bo', label='Training loss')\n",
    "plt.plot(epochs, val_loss, 'b', label='Validation loss')\n",
    "plt.title('Training and validation loss')\n",
    "plt.xlabel('Number of epochs')\n",
    "plt.ylabel('Loss')\n",
    "plt.legend()\n",
    "plt.show()"
   ]
  },
  {
   "cell_type": "code",
   "execution_count": 24,
   "metadata": {},
   "outputs": [
    {
     "name": "stdout",
     "output_type": "stream",
     "text": [
      "Saved model to disk\n"
     ]
    }
   ],
   "source": [
    "from keras.models import Sequential\n",
    "from keras.layers import Dense\n",
    "import json\n",
    "from keras.models import model_from_json, load_model\n",
    "\n",
    "\n",
    "# serialize model to JSON\n",
    "model_json = model.to_json()\n",
    "with open(\"FSDNet-8020.json\", \"w\") as json_file:\n",
    "    json_file.write(model_json)\n",
    "# serialize weights to HDF5\n",
    "model.save_weights(\"FSDNet-8020.h5\")\n",
    "print(\"Saved model to disk\")"
   ]
  },
  {
   "cell_type": "code",
   "execution_count": 25,
   "metadata": {},
   "outputs": [
    {
     "name": "stdout",
     "output_type": "stream",
     "text": [
      "Loaded model from disk\n"
     ]
    }
   ],
   "source": [
    "# load json and create model\n",
    "json_file = open('FSDNet-8020.json', 'r')\n",
    "loaded_model_json = json_file.read()\n",
    "json_file.close()\n",
    "loaded_model = model_from_json(loaded_model_json)\n",
    "# load weights into new model\n",
    "loaded_model.load_weights(\"FSDNet-8020.h5\")\n",
    "print(\"Loaded model from disk\")"
   ]
  },
  {
   "cell_type": "code",
   "execution_count": 26,
   "metadata": {},
   "outputs": [
    {
     "name": "stdout",
     "output_type": "stream",
     "text": [
      "[8 5 9 ... 1 3 3]\n",
      "[8 5 9 ... 1 3 3]\n"
     ]
    }
   ],
   "source": [
    "from sklearn.metrics import confusion_matrix\n",
    "#from sklearn.metrics import confusion_matrix.\n",
    "#confusion_matrix(y_train_5, y_train_pred) \n",
    "#Each row in a confusion matrix represents an actual class, while each column represents a predicted class.\n",
    "import keras\n",
    "\n",
    "preds=loaded_model.predict(np.array(X_test))\n",
    "predicted_classes = np.argmax(np.round(preds),axis=1)\n",
    "predicted_classes1 = np.array(predicted_classes)\n",
    "y_pred=predicted_classes1\n",
    "testy = np.argmax(np.round(y_test),axis=1)\n",
    "ytrue = np.array(testy)\n",
    "\n",
    "print(y_pred)\n",
    "print(ytrue)"
   ]
  },
  {
   "cell_type": "code",
   "execution_count": 27,
   "metadata": {},
   "outputs": [
    {
     "name": "stdout",
     "output_type": "stream",
     "text": [
      "Confusion matrix, without normalization\n",
      "Normalized confusion matrix\n"
     ]
    },
    {
     "data": {
      "image/png": "[encoded data removed]",
      "text/plain": [
       "<Figure size 432x288 with 2 Axes>"
      ]
     },
     "metadata": {
      "needs_background": "light"
     },
     "output_type": "display_data"
    },
    {
     "data": {
      "image/png": "[encoded data removed]",
      "text/plain": [
       "<Figure size 432x288 with 2 Axes>"
      ]
     },
     "metadata": {
      "needs_background": "light"
     },
     "output_type": "display_data"
    }
   ],
   "source": [
    "classes=['Acne','Actinic','Angio','Bleph','Ecz','Melas','Norm','NotFace','Rosa','Viti']\n",
    "\n",
    "def plot_confusion_matrix(ytrue, y_pred,classes,\n",
    "                          normalize=False,\n",
    "                          title=None,\n",
    "                          cmap=plt.cm.Blues):\n",
    "    \n",
    "    \"\"\"\n",
    "    This function prints and plots the confusion matrix.\n",
    "    Normalization can be applied by setting `normalize=True`.\n",
    "    \"\"\"\n",
    "    if not title:\n",
    "        if normalize:\n",
    "            title = 'Normalized confusion matrix'\n",
    "        else:\n",
    "            title = 'Confusion matrix, without normalization'\n",
    "\n",
    "    # Compute confusion matrix\n",
    "    cm = confusion_matrix(ytrue, y_pred)\n",
    "    # Only use the labels that appear in the data\n",
    "    \n",
    "    classes=['Acne','Actinic','Angio','Bleph','Ecz','Melas','Norm','NotFace','Rosa','Viti']\n",
    "    \n",
    "    if normalize:\n",
    "        cm = cm.astype('float') / cm.sum(axis=1)[:, np.newaxis]\n",
    "        print(\"Normalized confusion matrix\")\n",
    "    else:\n",
    "        print('Confusion matrix, without normalization')\n",
    "\n",
    "    #print(cm)\n",
    "\n",
    "    fig, ax = plt.subplots()\n",
    "    im = ax.imshow(cm, interpolation='nearest', cmap=cmap)\n",
    "    ax.figure.colorbar(im, ax=ax)\n",
    "    # We want to show all ticks...\n",
    "    ax.set(xticks=np.arange(cm.shape[1]),\n",
    "           yticks=np.arange(cm.shape[0]),\n",
    "           # ... and label them with the respective list entries\n",
    "           xticklabels=classes, yticklabels=classes,\n",
    "           title=title,\n",
    "           ylabel='True label',\n",
    "           xlabel='Predicted label')\n",
    "\n",
    "    # Rotate the tick labels and set their alignment.\n",
    "    plt.setp(ax.get_xticklabels(), rotation=90, ha=\"right\",\n",
    "             rotation_mode=\"anchor\")\n",
    "\n",
    "    # Loop over data dimensions and create text annotations.\n",
    "    fmt = '.2f' if normalize else 'd'\n",
    "    thresh = cm.max() / 2.\n",
    "    for i in range(cm.shape[0]):\n",
    "        for j in range(cm.shape[1]):\n",
    "            ax.text(j, i, format(cm[i, j], fmt),\n",
    "                    ha=\"center\", va=\"center\",\n",
    "                    color=\"white\" if cm[i, j] > thresh else \"black\")\n",
    "    fig.tight_layout()\n",
    "    return ax\n",
    "np.set_printoptions(precision=2)\n",
    "# Plot non-normalized confusion matrix\n",
    "plot_confusion_matrix(ytrue, y_pred, classes=classes,\n",
    "                      title='Confusion matrix, without normalization in case 80-20')\n",
    "\n",
    "# Plot normalized confusion matrix\n",
    "plot_confusion_matrix(ytrue, y_pred, classes=classes, normalize=True,\n",
    "                      title='Normalized confusion matrix in case 80-20')\n",
    "\n",
    "plt.show()"
   ]
  },
  {
   "cell_type": "code",
   "execution_count": 28,
   "metadata": {},
   "outputs": [
    {
     "name": "stdout",
     "output_type": "stream",
     "text": [
      "              precision    recall  f1-score   support\n",
      "\n",
      "        Acne       0.98      0.99      0.98       407\n",
      "     Actinic       0.99      0.99      0.99       386\n",
      "       Angio       1.00      0.92      0.96       390\n",
      "       Bleph       0.99      1.00      0.99       414\n",
      "         Ecz       0.99      0.97      0.98       395\n",
      "       Melas       0.97      0.99      0.98       415\n",
      "        Norm       0.97      0.97      0.97       402\n",
      "     NotFace       1.00      1.00      1.00       418\n",
      "        Rosa       0.99      0.98      0.99       380\n",
      "        Viti       0.92      1.00      0.96       393\n",
      "\n",
      "   micro avg       0.98      0.98      0.98      4000\n",
      "   macro avg       0.98      0.98      0.98      4000\n",
      "weighted avg       0.98      0.98      0.98      4000\n",
      "\n"
     ]
    }
   ],
   "source": [
    "import pandas as pd\n",
    "#pandas (all lowercase) is a popular Python-based data analysis toolkit which can be imported using import pandas as pd .\n",
    "from sklearn.metrics import classification_report\n",
    "#A Classification report is used to measure the quality of predictions from a classification algorithm. ... \n",
    "#The report shows the main classification metrics precision, recall and f1-score on a per-class basis. \n",
    "#The metrics are calculated by using true and false positives, true and false negatives.\n",
    "\n",
    "y_actu = pd.Series(ytrue, name='Actual')\n",
    "y_pred = pd.Series(y_pred, name='Predicted')\n",
    "target_names=['Acne','Actinic','Angio','Bleph','Ecz','Melas','Norm','NotFace','Rosa','Viti']\n",
    "print(classification_report(y_actu, y_pred, target_names=target_names))"
   ]
  },
  {
   "cell_type": "code",
   "execution_count": 29,
   "metadata": {},
   "outputs": [
    {
     "name": "stdout",
     "output_type": "stream",
     "text": [
      "Found 3921 correct labels\n",
      "Found 79 incorrect labels\n"
     ]
    }
   ],
   "source": [
    "correct = np.where(y_pred==y_actu)[0]\n",
    "print (\"Found %d correct labels\" % len(correct))\n",
    "incorrect = np.where(y_pred!=y_actu)[0]\n",
    "print (\"Found %d incorrect labels\" % len(incorrect))"
   ]
  },
  {
   "cell_type": "code",
   "execution_count": null,
   "metadata": {},
   "outputs": [],
   "source": []
  },
  {
   "cell_type": "code",
   "execution_count": null,
   "metadata": {},
   "outputs": [],
   "source": []
  }
 ],
 "metadata": {
  "kernelspec": {
   "display_name": "Python 3",
   "language": "python",
   "name": "python3"
  },
  "language_info": {
   "codemirror_mode": {
    "name": "ipython",
    "version": 3
   },
   "file_extension": ".py",
   "mimetype": "text/x-python",
   "name": "python",
   "nbconvert_exporter": "python",
   "pygments_lexer": "ipython3",
   "version": "3.7.1"
  }
 },
 "nbformat": 4,
 "nbformat_minor": 2
}
