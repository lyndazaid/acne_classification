{
 "cells": [
  {
   "cell_type": "markdown",
   "metadata": {},
   "source": [
    "                                                      Rotate and Flip"
   ]
  },
  {
   "cell_type": "code",
   "execution_count": 1,
   "metadata": {},
   "outputs": [],
   "source": [
    "from PIL import Image\n",
    "# Python Imaging Library (PIL) \n",
    "# Opening, rotating and displaying an image\n",
    "#The most important class in the Python Imaging Library is the Image class\n",
    "import os\n",
    "#The OS module in Python provides functions for creating and removing a directory (folder), fetching its contents, \n",
    "#changing and identifying the current directory"
   ]
  },
  {
   "cell_type": "code",
   "execution_count": 2,
   "metadata": {},
   "outputs": [],
   "source": [
    "for f in os.listdir('.'):\n",
    "#os.listdir(\".\") means: Does it mean all files and folders in the current directory\n",
    "    if f.endswith('.jpg'):\n",
    "#The endswith() method returns True if a string ends with the specified suffix. \n",
    "#If not, it returns False.\n",
    "       i=Image.open(f)\n",
    "#open the images with extension (.jpg)\n",
    "       fn,fext=os.path.splitext(f)\n",
    "#path. splitext() method in Python is used to split the path name into a pair root and ext.\n",
    "#fn is the name image\n",
    "#fext is the extension(.jpg)\n",
    "       i.rotate(0).save('images/{}_Or{}'.format(fn, fext))\n",
    "       i.rotate(-5).save('images/{}_-5{}'.format(fn, fext))\n",
    "#rotate right \n",
    "       i.rotate(5).save('images/{}_5{}'.format(fn, fext))\n",
    "#rotate left \n",
    "       i.rotate(10).save('images/{}_10{}'.format(fn, fext))\n",
    "       i.rotate(-10).save('images/{}_-10{}'.format(fn, fext))\n",
    "       i.rotate(30).save('images/{}_30{}'.format(fn, fext))\n",
    "       i.rotate(-30).save('images/{}_-30{}'.format(fn, fext))\n",
    "       i.rotate(45).save('images/{}_45{}'.format(fn, fext))\n",
    "       i.rotate(-45).save('images/{}_-45{}'.format(fn, fext))\n",
    "       i.transpose(Image.FLIP_LEFT_RIGHT).save('images/{}_flipped{}'.format(fn, fext))\n",
    "#Flip image horizontally (left to right)."
   ]
  },
  {
   "cell_type": "code",
   "execution_count": null,
   "metadata": {},
   "outputs": [],
   "source": []
  }
 ],
 "metadata": {
  "kernelspec": {
   "display_name": "Python 3",
   "language": "python",
   "name": "python3"
  },
  "language_info": {
   "codemirror_mode": {
    "name": "ipython",
    "version": 3
   },
   "file_extension": ".py",
   "mimetype": "text/x-python",
   "name": "python",
   "nbconvert_exporter": "python",
   "pygments_lexer": "ipython3",
   "version": "3.7.1"
  }
 },
 "nbformat": 4,
 "nbformat_minor": 2
}
